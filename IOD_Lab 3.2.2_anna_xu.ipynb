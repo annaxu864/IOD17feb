{
 "cells": [
  {
   "cell_type": "markdown",
   "metadata": {
    "id": "nOGGU7gNKck0"
   },
   "source": [
    "<div>\n",
    "<img src=https://www.institutedata.com/wp-content/uploads/2019/10/iod_h_tp_primary_c.svg width=\"300\">\n",
    "</div>"
   ]
  },
  {
   "cell_type": "markdown",
   "metadata": {
    "id": "_D_idRWZKck4"
   },
   "source": [
    "# Lab 3.2.2\n",
    "# *Mining Social Media on Reddit*"
   ]
  },
  {
   "cell_type": "markdown",
   "metadata": {
    "id": "atJ1XMr3Kck7"
   },
   "source": [
    "## The Reddit API and the PRAW Package"
   ]
  },
  {
   "cell_type": "markdown",
   "metadata": {
    "id": "aJ9o1EfAKck-"
   },
   "source": [
    "The Reddit API is rich and complex, with many endpoints (https://www.reddit.com/dev/api/). It includes methods for navigating its collections, which include various kinds of media as well as comments. Fortunately, the Python library PRAW reduces much of this complexity.\n",
    "\n",
    "Reddit requires developers to create and authenticate an app before they can use the API, but the process is much less onerous than some, and does not have waiting period for approval of new developers."
   ]
  },
  {
   "cell_type": "markdown",
   "metadata": {
    "id": "egz9IUhlKclB"
   },
   "source": [
    "### 1. Create a Reddit App\n",
    "\n",
    "Go to https://www.reddit.com/prefs/apps and click \"create an app\".\n",
    "\n",
    "Enter the following in the form:\n",
    "\n",
    "- a name for your app\n",
    "- select \"script\" radio button\n",
    "- a description\n",
    "- a redirect URI\n",
    "\n",
    "(Nb. For pulling data into a data science experiment, a local port can be used for the Redirect URI; try http://127.0.0.1:1410)\n",
    "\n",
    "\n",
    "- click \"create app\"\n",
    "- from the form that displays, copy the following to a local text file (or to this notebook):\n",
    "\n",
    "  - name (the name you gave to your app)\n",
    "  - redirect URI\n",
    "  - personal use script (this is your OAuth 2 Client ID)\n",
    "  - secret (this is your OAuth 2 Secret)"
   ]
  },
  {
   "cell_type": "markdown",
   "metadata": {
    "id": "LF9V-LJ2KclE"
   },
   "source": [
    "### 2. Register for API Access\n",
    "\n",
    "- follow the link at https://www.reddit.com/wiki/api and read the terms of use for Reddit API access\n",
    "- fill in the form fields at the bottom\n",
    "  - make sure to enter your new OAuth Client ID where indicated\n",
    "  - your use case could be something like \"Training in API usage for data science projects\"\n",
    "  - your platform could be something like \"Jupyter Notebooks / Python\"\n",
    "  \n",
    "- click \"SUBMIT\"\n",
    "\n",
    "- when asked for User-Agent, enter something that fits this pattern:\n",
    "  `your_os-python:your_reddit_appname:v1.0 (by /u/your_reddit_username)`"
   ]
  },
  {
   "cell_type": "markdown",
   "metadata": {
    "id": "JIsv8YAMKclG"
   },
   "source": [
    "### 3. Load Python Libraries"
   ]
  },
  {
   "cell_type": "code",
   "execution_count": 112,
   "metadata": {
    "colab": {
     "base_uri": "https://localhost:8080/"
    },
    "executionInfo": {
     "elapsed": 4231,
     "status": "ok",
     "timestamp": 1685516919188,
     "user": {
      "displayName": "Maheshkumar Paik",
      "userId": "02349378107593826691"
     },
     "user_tz": -480
    },
    "id": "U3ZVHsiYoubq",
    "outputId": "ab731409-5046-47f5-aeed-c7d5a5b8f4bb"
   },
   "outputs": [
    {
     "name": "stdout",
     "output_type": "stream",
     "text": [
      "Requirement already satisfied: praw in /opt/anaconda3/lib/python3.12/site-packages (7.8.1)\n",
      "Requirement already satisfied: prawcore<3,>=2.4 in /opt/anaconda3/lib/python3.12/site-packages (from praw) (2.4.0)\n",
      "Requirement already satisfied: update_checker>=0.18 in /opt/anaconda3/lib/python3.12/site-packages (from praw) (0.18.0)\n",
      "Requirement already satisfied: websocket-client>=0.54.0 in /opt/anaconda3/lib/python3.12/site-packages (from praw) (1.8.0)\n",
      "Requirement already satisfied: requests<3.0,>=2.6.0 in /opt/anaconda3/lib/python3.12/site-packages (from prawcore<3,>=2.4->praw) (2.32.3)\n",
      "Requirement already satisfied: charset-normalizer<4,>=2 in /opt/anaconda3/lib/python3.12/site-packages (from requests<3.0,>=2.6.0->prawcore<3,>=2.4->praw) (3.3.2)\n",
      "Requirement already satisfied: idna<4,>=2.5 in /opt/anaconda3/lib/python3.12/site-packages (from requests<3.0,>=2.6.0->prawcore<3,>=2.4->praw) (3.7)\n",
      "Requirement already satisfied: urllib3<3,>=1.21.1 in /opt/anaconda3/lib/python3.12/site-packages (from requests<3.0,>=2.6.0->prawcore<3,>=2.4->praw) (2.2.3)\n",
      "Requirement already satisfied: certifi>=2017.4.17 in /opt/anaconda3/lib/python3.12/site-packages (from requests<3.0,>=2.6.0->prawcore<3,>=2.4->praw) (2025.4.26)\n"
     ]
    }
   ],
   "source": [
    "!pip install praw"
   ]
  },
  {
   "cell_type": "code",
   "execution_count": 113,
   "metadata": {
    "id": "xqi2BT66KclI"
   },
   "outputs": [],
   "source": [
    "import praw\n",
    "import requests\n",
    "import json\n",
    "import pprint\n",
    "from datetime import datetime, date, time"
   ]
  },
  {
   "cell_type": "markdown",
   "metadata": {
    "id": "wwXaO9GPKclP"
   },
   "source": [
    "### 4. Authenticate from your Python script"
   ]
  },
  {
   "cell_type": "markdown",
   "metadata": {
    "id": "ZF5oh54RKclR"
   },
   "source": [
    "You could assign your authentication details explicitly, as follows:"
   ]
  },
  {
   "cell_type": "code",
   "execution_count": 116,
   "metadata": {
    "id": "qH2-X9juKclS"
   },
   "outputs": [],
   "source": [
    "my_user_agent = 'anna_app:v1.0 (by /u/Worried-Character167)'   # your user Agent string goes in here\n",
    "my_client_id = 'FO7NKfHilhnSarFC2rQyrg'   # your Client ID string goes in here\n",
    "my_client_secret = 'Zp4Z8SuDoIOle82-ONA9_t46tgb4vQ'   # your Secret string goes in here"
   ]
  },
  {
   "cell_type": "markdown",
   "metadata": {
    "id": "1TmzPxHIKclX"
   },
   "source": [
    "A better way would be to store these details externally, so they are not displayed in the notebook:\n",
    "\n",
    "- create a file called \"auth_reddit.json\" in your \"notebooks\" directory, and save your credentials there in JSON format:\n",
    "\n",
    "`{   \"my_client_id\": \"your Client ID string goes in here\",` <br>\n",
    "&nbsp;&nbsp;&nbsp;&nbsp;&nbsp;&nbsp;&nbsp;&nbsp;` \"my_client_secret\": \"your Secret string goes in here\",` <br>\n",
    "&nbsp;&nbsp;&nbsp;&nbsp;&nbsp;&nbsp;&nbsp;&nbsp;`\"my_user_agent\": \"your user Agent string goes in here\"` <br>\n",
    "`}`\n",
    "\n",
    "Use the following code to load the credentials:  "
   ]
  },
  {
   "cell_type": "code",
   "execution_count": 121,
   "metadata": {
    "colab": {
     "base_uri": "https://localhost:8080/",
     "height": 35
    },
    "executionInfo": {
     "elapsed": 324,
     "status": "ok",
     "timestamp": 1685517832027,
     "user": {
      "displayName": "Maheshkumar Paik",
      "userId": "02349378107593826691"
     },
     "user_tz": -480
    },
    "id": "mFbFWGnVKclY",
    "outputId": "97c00516-ffaa-4ea3-a62f-943f12278dcf"
   },
   "outputs": [
    {
     "data": {
      "text/plain": [
       "'/Users/annaxu/Documents/Data Science/Week 3/Labs'"
      ]
     },
     "execution_count": 121,
     "metadata": {},
     "output_type": "execute_result"
    }
   ],
   "source": [
    "pwd()  # make sure your working directory is where the file is"
   ]
  },
  {
   "cell_type": "code",
   "execution_count": 123,
   "metadata": {
    "id": "Jc5_dh-jKclc"
   },
   "outputs": [
    {
     "name": "stdout",
     "output_type": "stream",
     "text": [
      "{   'my_client_id': 'FO7NKfHilhnSarFC2rQyrg',\n",
      "    'my_client_secret': 'Zp4Z8SuDoIOle82-ONA9_t46tgb4vQ',\n",
      "    'my_user_agent': 'anna_app:v1.0 (by /u/Worried-Character167)'}\n"
     ]
    }
   ],
   "source": [
    "path_auth = '/Users/annaxu/Documents/Data Science/Week 3/Labs/auth_reddit.json'\n",
    "auth = json.loads(open(path_auth).read())\n",
    "pp = pprint.PrettyPrinter(indent=4)\n",
    "# For debugging only:\n",
    "\n",
    "pp.pprint(auth)"
   ]
  },
  {
   "cell_type": "code",
   "execution_count": 125,
   "metadata": {
    "id": "IyPlUZ-wtRrS"
   },
   "outputs": [],
   "source": [
    "my_user_agent = auth['my_user_agent']\n",
    "my_client_id = auth['my_client_id']\n",
    "my_client_secret = auth['my_client_secret']"
   ]
  },
  {
   "cell_type": "markdown",
   "metadata": {
    "id": "lVKFy9rZKclf"
   },
   "source": [
    "Security considerations:\n",
    "- this method only keeps your credentials invisible as long as nobody else gets access to this notebook file\n",
    "- if you wanted another user to have access to the executable notebook without divulging your credentials you should set up an OAuth 2.0 workflow to let them obtain and apply their own API tokens when using your app\n",
    "- if you just want to share your analyses, you could use a separate script (which you don't share) to fetch the data and save it locally, then use a second notebook (with no API access) to load and analyse the locally stored data"
   ]
  },
  {
   "cell_type": "markdown",
   "metadata": {
    "id": "fgHqt72rKclg"
   },
   "source": [
    "### 5. Exploring the API"
   ]
  },
  {
   "cell_type": "markdown",
   "metadata": {
    "id": "ByEQS6QsKclh"
   },
   "source": [
    "Here is how to connect to Reddit with read-only access:"
   ]
  },
  {
   "cell_type": "code",
   "execution_count": 130,
   "metadata": {
    "colab": {
     "base_uri": "https://localhost:8080/"
    },
    "executionInfo": {
     "elapsed": 392,
     "status": "ok",
     "timestamp": 1685518185231,
     "user": {
      "displayName": "Maheshkumar Paik",
      "userId": "02349378107593826691"
     },
     "user_tz": -480
    },
    "id": "8hkZJlcJKcli",
    "outputId": "8e736632-b9cc-4ddd-808c-9fa125dada0f"
   },
   "outputs": [
    {
     "name": "stdout",
     "output_type": "stream",
     "text": [
      "Read-only = True\n"
     ]
    }
   ],
   "source": [
    "reddit = praw.Reddit(client_id = my_client_id,\n",
    "                     client_secret = my_client_secret,\n",
    "                     user_agent = my_user_agent)\n",
    "\n",
    "print('Read-only = ' + str(reddit.read_only))  # Output: True"
   ]
  },
  {
   "cell_type": "markdown",
   "metadata": {
    "id": "slGz0lS5Kclk"
   },
   "source": [
    "In the next cell, put the cursor after the '.' and hit the [tab] key to see the available members and methods in the response object:"
   ]
  },
  {
   "cell_type": "code",
   "execution_count": 133,
   "metadata": {
    "id": "McKdW7YGqmk3"
   },
   "outputs": [
    {
     "ename": "SyntaxError",
     "evalue": "invalid syntax (1019240351.py, line 1)",
     "output_type": "error",
     "traceback": [
      "\u001b[0;36m  Cell \u001b[0;32mIn[133], line 1\u001b[0;36m\u001b[0m\n\u001b[0;31m    reddit.\u001b[0m\n\u001b[0m           ^\u001b[0m\n\u001b[0;31mSyntaxError\u001b[0m\u001b[0;31m:\u001b[0m invalid syntax\n"
     ]
    }
   ],
   "source": [
    "reddit."
   ]
  },
  {
   "cell_type": "code",
   "execution_count": 154,
   "metadata": {
    "id": "poGsr4X9tv42"
   },
   "outputs": [],
   "source": [
    "subreddit_name = 'foodies_sydney'\n",
    "subreddit = reddit.subreddit(subreddit_name)"
   ]
  },
  {
   "cell_type": "code",
   "execution_count": 156,
   "metadata": {
    "colab": {
     "base_uri": "https://localhost:8080/"
    },
    "executionInfo": {
     "elapsed": 96527,
     "status": "ok",
     "timestamp": 1685518357553,
     "user": {
      "displayName": "Maheshkumar Paik",
      "userId": "02349378107593826691"
     },
     "user_tz": -480
    },
    "id": "_iuNlRadtx9T",
    "outputId": "deee9289-d1f9-4811-eb8e-80db3438e8f1"
   },
   "outputs": [],
   "source": [
    "comments = []\n",
    "for comment in subreddit.comments(limit=1000):\n",
    "    comments.append(comment)"
   ]
  },
  {
   "cell_type": "code",
   "execution_count": 157,
   "metadata": {
    "colab": {
     "base_uri": "https://localhost:8080/"
    },
    "executionInfo": {
     "elapsed": 7,
     "status": "ok",
     "timestamp": 1685521538900,
     "user": {
      "displayName": "Maheshkumar Paik",
      "userId": "02349378107593826691"
     },
     "user_tz": -480
    },
    "id": "6MvyYewEKcll",
    "outputId": "3c40f831-334b-4f57-bd1b-d229134ae7f8"
   },
   "outputs": [
    {
     "data": {
      "text/plain": [
       "Subreddit(display_name='foodies_sydney')"
      ]
     },
     "execution_count": 157,
     "metadata": {},
     "output_type": "execute_result"
    }
   ],
   "source": [
    "reddit.subreddit(subreddit_name)"
   ]
  },
  {
   "cell_type": "code",
   "execution_count": 163,
   "metadata": {
    "id": "o5C8Bb2HtvTd"
   },
   "outputs": [
    {
     "name": "stdout",
     "output_type": "stream",
     "text": [
      "Subreddit Name: foodies_sydney\n",
      "Subreddit Title: foodies_sydney\n",
      "Subreddit Description: \n",
      "Number of Subscribers: 33310\n"
     ]
    }
   ],
   "source": [
    "# Get information about the subreddit\n",
    "subreddit = reddit.subreddit(subreddit_name)\n",
    "\n",
    "# Print some basic information about the subreddit\n",
    "print(f\"Subreddit Name: {subreddit.display_name}\")\n",
    "print(f\"Subreddit Title: {subreddit.title}\")\n",
    "print(f\"Subreddit Description: {subreddit.description}\")\n",
    "print(f\"Number of Subscribers: {subreddit.subscribers}\")"
   ]
  },
  {
   "cell_type": "markdown",
   "metadata": {
    "id": "AKfXBu7yKcln"
   },
   "source": [
    "Consult the PRAW and Reddit API documentation. Print a few of the response members below:"
   ]
  },
  {
   "cell_type": "code",
   "execution_count": 167,
   "metadata": {
    "id": "31Njl99lKcln"
   },
   "outputs": [
    {
     "name": "stdout",
     "output_type": "stream",
     "text": [
      "\n",
      "Top Posts:\n",
      "Title: A cafe closure to celebrate!!!\n",
      "Author: beepbop213\n",
      "Score: 2250\n",
      "URL: https://i.redd.it/lfsl8ylbcyye1.jpeg\n",
      "\n",
      "Title: All the wonderful food we had on our Sydney trip\n",
      "Author: earth_wanderer1235\n",
      "Score: 725\n",
      "URL: https://www.reddit.com/gallery/1jcdh1q\n",
      "\n",
      "Title: Pretty but would you classify as scrambled eggs?\n",
      "Author: lifeis_amystery\n",
      "Score: 699\n",
      "URL: https://www.reddit.com/gallery/1j2wbmh\n",
      "\n",
      "Title: After supermarkets they should investigate Sydney restaurants 🤷🏽‍♂️\n",
      "Author: privatepolicy85\n",
      "Score: 575\n",
      "URL: https://i.redd.it/jm8jswp4w5fc1.jpeg\n",
      "\n",
      "Title: This is a fun little excercise😂\n",
      "Author: None\n",
      "Score: 518\n",
      "URL: https://i.redd.it/74457q7bgnkc1.jpeg\n",
      "\n"
     ]
    }
   ],
   "source": [
    "# Print the top posts in the subreddit\n",
    "top_posts = subreddit.top(limit=5)  # You can change the limit to fetch more posts\n",
    "print(\"\\nTop Posts:\")\n",
    "for post in top_posts:\n",
    "    print(f\"Title: {post.title}\")\n",
    "    print(f\"Author: {post.author}\")\n",
    "    print(f\"Score: {post.score}\")\n",
    "    print(f\"URL: {post.url}\\n\")"
   ]
  },
  {
   "cell_type": "markdown",
   "metadata": {
    "id": "5L10cuKfKclp"
   },
   "source": [
    "Content in Reddit is grouped by topics called \"subreddits\". Content, called \"submissions\", is fetched by calling the `subreddit` method of the connection object (which is our `reddit` variable) with an argument that matches an actual topic.\n",
    "\n",
    "We also need to append a further method call to a \"subinstance\", such as one of the following:\n",
    "\n",
    "- controversial\n",
    "- gilded\n",
    "- hot\n",
    "- new\n",
    "- rising\n",
    "- top\n",
    "\n",
    "One of the submission objects members is `title`. Fetch and print 10 submission titles from the 'learnpython' subreddit using one of the subinstances above:"
   ]
  },
  {
   "cell_type": "code",
   "execution_count": 169,
   "metadata": {
    "colab": {
     "base_uri": "https://localhost:8080/"
    },
    "executionInfo": {
     "elapsed": 433,
     "status": "ok",
     "timestamp": 1685521546523,
     "user": {
      "displayName": "Maheshkumar Paik",
      "userId": "02349378107593826691"
     },
     "user_tz": -480
    },
    "id": "2W1iCDE9Kclp",
    "outputId": "1af1e406-d056-4cf6-da9c-e80705981b37"
   },
   "outputs": [
    {
     "name": "stdout",
     "output_type": "stream",
     "text": [
      "Ask Anything Monday - Weekly Thread\n",
      "How can I keep up to date with the hottest python modules?\n",
      "Can’t Pass Arg into Run Script via SSH shortcut Action\n",
      "How to use variables in other libraries\n",
      "How to bind semi_annual_raise correctly with while loop and if condition\n",
      "Anyone know how I can make a 3D game like this? (Read desc)\n",
      "How can python help me in a career?\n",
      "New to VSC and the terminal and utterly confused\n",
      "unsupported file\n",
      "Plotting advice\n"
     ]
    }
   ],
   "source": [
    "for submission in reddit.subreddit('learnpython').hot(limit=10):\n",
    "    print(submission.title)"
   ]
  },
  {
   "cell_type": "markdown",
   "metadata": {
    "id": "00coF0YJKclr"
   },
   "source": [
    "Now retrieve 10 authors:"
   ]
  },
  {
   "cell_type": "code",
   "execution_count": 172,
   "metadata": {
    "colab": {
     "base_uri": "https://localhost:8080/"
    },
    "executionInfo": {
     "elapsed": 7086,
     "status": "ok",
     "timestamp": 1685521557229,
     "user": {
      "displayName": "Maheshkumar Paik",
      "userId": "02349378107593826691"
     },
     "user_tz": -480
    },
    "id": "U1vTByCGKclr",
    "outputId": "836a8bf7-dbaa-45f2-ae11-559bee7c2744"
   },
   "outputs": [
    {
     "name": "stdout",
     "output_type": "stream",
     "text": [
      "AutoModerator\n",
      "MrMrsPotts\n",
      "DrMistyDNP\n",
      "BISACS\n",
      "DigitalSplendid\n",
      "CoolCademM\n",
      "ItsDanny201\n",
      "Level_String6853\n",
      "tommzo28\n",
      "FeistyAssumption3237\n"
     ]
    }
   ],
   "source": [
    "for submission in reddit.subreddit('learnpython').hot(limit=10):\n",
    "    print(submission.author)"
   ]
  },
  {
   "cell_type": "markdown",
   "metadata": {
    "id": "dOFMMl6AKclt"
   },
   "source": [
    "Note that we obtained the titles and authors from separate API calls. Can we expect these to correspond to the same submissions? If not, how could we gurantee that they do?"
   ]
  },
  {
   "cell_type": "code",
   "execution_count": 175,
   "metadata": {
    "id": "eIPVr-WaKclu"
   },
   "outputs": [],
   "source": [
    "submissions=reddit.subreddit('learnpython')"
   ]
  },
  {
   "cell_type": "markdown",
   "metadata": {
    "id": "IjIJ6ojAKclv"
   },
   "source": [
    "Why doesn't the next cell produce output?"
   ]
  },
  {
   "cell_type": "code",
   "execution_count": 178,
   "metadata": {
    "colab": {
     "base_uri": "https://localhost:8080/",
     "height": 183
    },
    "executionInfo": {
     "elapsed": 6,
     "status": "error",
     "timestamp": 1685521616248,
     "user": {
      "displayName": "Maheshkumar Paik",
      "userId": "02349378107593826691"
     },
     "user_tz": -480
    },
    "id": "ifxjcJ2aKclw",
    "outputId": "7e555d2c-0489-4eaa-888d-66fe598c1bf9"
   },
   "outputs": [
    {
     "ename": "TypeError",
     "evalue": "'Subreddit' object is not iterable",
     "output_type": "error",
     "traceback": [
      "\u001b[0;31m---------------------------------------------------------------------------\u001b[0m",
      "\u001b[0;31mTypeError\u001b[0m                                 Traceback (most recent call last)",
      "Cell \u001b[0;32mIn[178], line 1\u001b[0m\n\u001b[0;32m----> 1\u001b[0m \u001b[38;5;28;01mfor\u001b[39;00m submission \u001b[38;5;129;01min\u001b[39;00m submissions:\n\u001b[1;32m      2\u001b[0m     \u001b[38;5;28mprint\u001b[39m(submission\u001b[38;5;241m.\u001b[39mcomments)\n",
      "\u001b[0;31mTypeError\u001b[0m: 'Subreddit' object is not iterable"
     ]
    }
   ],
   "source": [
    "for submission in submissions:\n",
    "    print(submission.comments)"
   ]
  },
  {
   "cell_type": "code",
   "execution_count": 180,
   "metadata": {
    "id": "kPNVNapBKcly"
   },
   "outputs": [],
   "source": [
    "#Submission returns a Subreddit object, not a list of submissions that can be iterated on"
   ]
  },
  {
   "cell_type": "markdown",
   "metadata": {
    "id": "4aZ2OSd_Kclz"
   },
   "source": [
    "Print two comments associated with each of these submissions:"
   ]
  },
  {
   "cell_type": "code",
   "execution_count": 183,
   "metadata": {
    "colab": {
     "base_uri": "https://localhost:8080/"
    },
    "executionInfo": {
     "elapsed": 81419,
     "status": "ok",
     "timestamp": 1685521718870,
     "user": {
      "displayName": "Maheshkumar Paik",
      "userId": "02349378107593826691"
     },
     "user_tz": -480
    },
    "id": "RO4ppDPJKcl0",
    "outputId": "523482f9-0c62-42c2-d039-f0b34962ba26"
   },
   "outputs": [
    {
     "name": "stdout",
     "output_type": "stream",
     "text": [
      "I am very new to coding. I tried to write a simple \"whack-a-mole\" type game that displays a 3x3 matrix of X's and you press the key on the number pad which corresponds to the \"D\" which replaces one of the X's. For troubleshooting purposes, it also prints the number you need to press. \n",
      "\n",
      "When I run it, the code does what I expect and stops to wait for a button press. Then it randomly selects another X matrix from the list, generally marks it as a wrong answer using the initial numberpad input, then prints a third matrix from the list and stops to wait for another input. I do not understand where the second selection from the list is coming from? \n",
      "\n",
      "I added an unused item to my list of matrices so I could just call positions 1-9 to correspond to the numbers on the number pad. I understand I probably could have written it as number\\_key\\_to\\_press = list\\_value + 1 but I do not think that this has anything to do with the problem I am actually facing with my code. \n",
      "\n",
      "    import random\n",
      "    import keyboard\n",
      "    score = 0\n",
      "    dino_locations = [\n",
      "    'unused',\n",
      "    'X X X\\nX X X\\nD X X\\n',\n",
      "    'X X X\\nX X X\\nX D X\\n',\n",
      "    'X X X\\nX X X\\nX X D\\n',\n",
      "    'X X X\\nD X X\\nX X X\\n',\n",
      "    'X X X\\nX D X\\nX X X\\n',\n",
      "    'X X X\\nX X D\\nX X X\\n',\n",
      "    'D X X\\nX X X\\nX X X\\n',\n",
      "    'X D X\\nX X X\\nX X X\\n',\n",
      "    'X X D\\nX X X\\nX X X\\n',\n",
      "    ]\n",
      "    #print(\"The Dinosaurs are trying to break out of their enclosure!\\nStop them by using the number pad to energize the fence where they are attacking it.\\n\")\n",
      "    def play_game():\n",
      "        global score\n",
      "        while score < 10:\n",
      "            dino_value = random.randint(1, 9) #Choose a number between 1-9\n",
      "            chosen_dino = dino_locations[dino_value] #Pull the correct ASCII from the list\n",
      "            print(chosen_dino) #Show the ASCII picture\n",
      "            print(dino_value,'\\n') #FOR TESTING PURPOSES: Show the correct number of the ASCII picture\n",
      "            key = keyboard.read_key() #Wait and read a keypress\n",
      "            if key == str(dino_value):\n",
      "                score += 1\n",
      "                print(f\"\\nGreat job, you've stopped {score} dinos from escaping!\\n\")\n",
      "            else:\n",
      "                score -= 1\n",
      "                print(f\"\\nSorry, that's not the location of the dino, it should have been {dino_value}!\\n\")\n",
      "                print(f\"\\nThe current score is {score}.\\n\")\n",
      "    play_game()\n",
      "can i get some tips for variable naming? my tendency is to make them long but descriptive but then later they seem like run on sentences that become inaccurate as the script grows and changes.\n",
      "Following\n",
      "> I'm guessing the issue is in how the argument is being passed\n",
      "\n",
      "Then don’t be vague about how you’re passing it.\n",
      "\n",
      "What’s the *exact* ssh command, as you’re running it?\n",
      "\n",
      "> I've attached the input variable\n",
      "\n",
      "I don’t know what that means.\n",
      "*FIXED*!  I had to create the variable before calling the file!\n",
      "\n",
      "var1=\"HOME\"\n",
      "\n",
      "zsh /Users/FILE PATH/run_shortcut.sh \"$var1\"\n",
      "\n",
      "\n",
      "Omg how irritating, I’ve been at this for hours haha!   Such a simple solution, and 3 LLM’s (ai models) couldn’t figure it out 🤪!\n",
      "Assuming the user entered one of the colors that colorama supports: \n",
      "\n",
      "    user_color = input(Fore.Red + 'Enter first color\\n')\n",
      "    c1 = getattr(Fore, user_color)\n",
      "    print(c1 + \"BOO!\")\n",
      "Okay so I read the documentation on getattr.\n",
      "So user_color doesn't exist in fore. So when I put fore.c1 it looks literally for c1 not what c1 is equal to? And getattr will create values if you specify it so it essentially pieces fore.red for me? Is this all correct? Thanks\n",
      "“If c%6 == 0” is what you want I believe\n",
      "\n",
      "You are looking to use the modulo operator which is defined here: https://docs.python.org/3.3/reference/expressions.html\n",
      "\n",
      "\n",
      "[Python code for 3rd person ](https://www.google.com/search?q=python+code+for+3rd+person+view&rlz=1C1VDKB_enUS1161US1161&oq=python+code+for+3rd+person+view&gs_lcrp=EgZjaHJvbWUyBggAEEUYOTIHCAEQIRigATIHCAIQIRirAjIHCAMQIRirAjIHCAQQIRifBTIHCAUQIRifBTIHCAYQIRifBTIHCAcQIRifBTIHCAgQIRifBTIHCAkQIRiPAtIBCDU1OTBqMGo3qAIIsAIB8QUZ9ulOQrBoXQ&sourceid=chrome&ie=UTF-8)\n",
      "\n",
      "You should really learn to use google.\n",
      "Write a game with an unlocked camera, then lock the camera.\n",
      "Learning programming concepts can help you in either, however don't make the mistake of thinking that you're *only* a python developer. You will learn other languages depending on what you want to go into. Webdev you're probably going to learn JavaScript and CSS.\n",
      "Python is a good language. Good luck in your efforts\n",
      "You need to show some code. But I don't think your error has anything to do with text editors or the terminal, I'm not sure why you think it does.\n",
      "Nobody can debug code they can’t see\n"
     ]
    }
   ],
   "source": [
    "submissions = reddit.subreddit('learnpython').hot(limit=10)\n",
    "for submission in submissions:\n",
    "    top_level_comments = list(submission.comments)\n",
    "    all_comments = submission.comments.list()[:2]\n",
    "    for comment in all_comments:\n",
    "        print(comment.body)"
   ]
  },
  {
   "cell_type": "markdown",
   "metadata": {
    "id": "JvYEOesKKcl2"
   },
   "source": [
    "Referring to the API documentation, explore the submissions object and print some interesting data:"
   ]
  },
  {
   "cell_type": "code",
   "execution_count": null,
   "metadata": {
    "id": "glEShYZbKcl3"
   },
   "outputs": [],
   "source": []
  },
  {
   "cell_type": "markdown",
   "metadata": {
    "id": "Khno5kpWKcl5"
   },
   "source": [
    "#### Posting to Reddit"
   ]
  },
  {
   "cell_type": "markdown",
   "metadata": {
    "id": "zjnyN1OfKcl6"
   },
   "source": [
    "To be able to post to your Reddit account (i.e. contribute submissions), you need to connect to the API with read/write privilege. This requires an *authorised instance*, which is obtained by including your Reddit user name and password in the connection request:"
   ]
  },
  {
   "cell_type": "code",
   "execution_count": 192,
   "metadata": {
    "colab": {
     "base_uri": "https://localhost:8080/"
    },
    "executionInfo": {
     "elapsed": 12,
     "status": "ok",
     "timestamp": 1685521718870,
     "user": {
      "displayName": "Maheshkumar Paik",
      "userId": "02349378107593826691"
     },
     "user_tz": -480
    },
    "id": "ZXG7kouZKcl7",
    "outputId": "5afb108d-aab6-4bb9-af3e-8329d75b1c72"
   },
   "outputs": [
    {
     "name": "stdout",
     "output_type": "stream",
     "text": [
      "False\n"
     ]
    }
   ],
   "source": [
    "reddit = praw.Reddit(client_id='my client id',\n",
    "                     client_secret='my client secret',\n",
    "                     user_agent='my user agent',\n",
    "                     username='my username',\n",
    "                     password='my password')\n",
    "print(reddit.read_only)  # Output: False"
   ]
  },
  {
   "cell_type": "markdown",
   "metadata": {
    "id": "nEjrsF9vKcl-"
   },
   "source": [
    "You could hide these last two credentials by adding them to your JSON file and then reading all five values at once."
   ]
  },
  {
   "cell_type": "code",
   "execution_count": null,
   "metadata": {
    "id": "BVcbR0K1Kcl_"
   },
   "outputs": [],
   "source": []
  },
  {
   "cell_type": "markdown",
   "metadata": {
    "id": "WqBG4xS5Kk3X"
   },
   "source": [
    ">\n",
    ">\n"
   ]
  },
  {
   "cell_type": "markdown",
   "metadata": {
    "id": "EfPDz2gEKnRn"
   },
   "source": [
    ">\n",
    ">\n"
   ]
  },
  {
   "cell_type": "markdown",
   "metadata": {
    "id": "5Uo-KnYhKoRA"
   },
   "source": [
    "\n",
    "\n",
    "---\n",
    "\n",
    "\n",
    "\n",
    "---\n",
    "\n",
    "\n",
    "\n",
    "> > > > > > > > > © 2025 Institute of Data\n",
    "\n",
    "\n",
    "---\n",
    "\n",
    "\n",
    "\n",
    "---\n",
    "\n",
    "\n",
    "\n"
   ]
  }
 ],
 "metadata": {
  "colab": {
   "provenance": []
  },
  "kernelspec": {
   "display_name": "Python [conda env:base] *",
   "language": "python",
   "name": "conda-base-py"
  },
  "language_info": {
   "codemirror_mode": {
    "name": "ipython",
    "version": 3
   },
   "file_extension": ".py",
   "mimetype": "text/x-python",
   "name": "python",
   "nbconvert_exporter": "python",
   "pygments_lexer": "ipython3",
   "version": "3.12.7"
  }
 },
 "nbformat": 4,
 "nbformat_minor": 4
}
