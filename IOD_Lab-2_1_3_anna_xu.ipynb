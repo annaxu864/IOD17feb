{
 "cells": [
  {
   "cell_type": "markdown",
   "metadata": {
    "id": "Qxi_CGp4Wp-1"
   },
   "source": [
    "<div>\n",
    "<img src=https://www.institutedata.com/wp-content/uploads/2019/10/iod_h_tp_primary_c.svg width=\"300\">\n",
    "</div>"
   ]
  },
  {
   "cell_type": "markdown",
   "metadata": {
    "id": "HzUGTgjSWp-2"
   },
   "source": [
    "# Lab 2.1.3 - Central Limit Theorem\n",
    "\n",
    "## Data\n",
    "\n",
    "The Philippine Statistics Authority (PSA) spearheads the conduct of the Family Income and Expenditure Survey (FIES) nationwide. The survey, which is undertaken every three (3) years, is aimed at providing data on family income and expenditure, including, among others, levels of consumption by item of expenditure, sources of income in cash, and related information affecting income and expenditure levels and patterns in the Philippines.\n",
    "\n",
    "You can download the data from [here](https://www.kaggle.com/grosvenpaul/family-income-and-expenditure).\n",
    "\n",
    "The purpose of today's lab is to use simulation to visualise the sampling distribution for the sample mean. The Central Limit Theorem (CLT) tells us that as our sample size gets larger, the sampling distribution of the sample mean converges to a normal distribution. Therefore, when we have a large sample size, we can say that the sampling distribution for the sample mean is approximately normal, regardless of the distribution from which we are sampling.\n",
    "\n",
    "Let's start by taking a look at the data, **`Total Household Income`** will serve as a \"population\" for the purposes of this lab."
   ]
  },
  {
   "cell_type": "code",
   "execution_count": 176,
   "metadata": {
    "id": "1dXTqX_NWp-3"
   },
   "outputs": [],
   "source": [
    "import pandas as pd\n",
    "import numpy as np\n",
    "import matplotlib.pyplot as plt\n",
    "import seaborn as sns\n",
    "\n",
    "%matplotlib inline"
   ]
  },
  {
   "cell_type": "code",
   "execution_count": 134,
   "metadata": {
    "id": "OzOQz3KGWp-6"
   },
   "outputs": [],
   "source": [
    "# Read CSV\n",
    "house_hold_csv = pd.read_csv(r\"C:\\Users\\lytton\\Downloads\\DATA\\Family_Income_and_Expenditure.csv\")"
   ]
  },
  {
   "cell_type": "code",
   "execution_count": 136,
   "metadata": {
    "id": "vLQtYvURWp-8"
   },
   "outputs": [
    {
     "name": "stdout",
     "output_type": "stream",
     "text": [
      "   Total Household Income Region  Total Food Expenditure  \\\n",
      "0                  480332    CAR                  117848   \n",
      "1                  198235    CAR                   67766   \n",
      "2                   82785    CAR                   61609   \n",
      "3                  107589    CAR                   78189   \n",
      "4                  189322    CAR                   94625   \n",
      "\n",
      "  Main Source of Income  Agricultural Household indicator  \\\n",
      "0         Wage/Salaries                                 0   \n",
      "1         Wage/Salaries                                 0   \n",
      "2         Wage/Salaries                                 1   \n",
      "3         Wage/Salaries                                 0   \n",
      "4         Wage/Salaries                                 0   \n",
      "\n",
      "   Bread and Cereals Expenditure  Total Rice Expenditure  Meat Expenditure  \\\n",
      "0                          42140                   38300             24676   \n",
      "1                          17329                   13008             17434   \n",
      "2                          34182                   32001              7783   \n",
      "3                          34030                   28659             10914   \n",
      "4                          34820                   30167             18391   \n",
      "\n",
      "   Total Fish and  marine products Expenditure  Fruit Expenditure  ...  \\\n",
      "0                                        16806               3325  ...   \n",
      "1                                        11073               2035  ...   \n",
      "2                                         2590               1730  ...   \n",
      "3                                        10812                690  ...   \n",
      "4                                        11309               1395  ...   \n",
      "\n",
      "   Number of Refrigerator/Freezer  Number of Washing Machine  \\\n",
      "0                               1                          1   \n",
      "1                               0                          1   \n",
      "2                               0                          0   \n",
      "3                               0                          0   \n",
      "4                               1                          0   \n",
      "\n",
      "   Number of Airconditioner  Number of Car, Jeep, Van  \\\n",
      "0                         0                         0   \n",
      "1                         0                         0   \n",
      "2                         0                         0   \n",
      "3                         0                         0   \n",
      "4                         0                         0   \n",
      "\n",
      "   Number of Landline/wireless telephones  Number of Cellular phone  \\\n",
      "0                                       0                         2   \n",
      "1                                       0                         3   \n",
      "2                                       0                         0   \n",
      "3                                       0                         1   \n",
      "4                                       0                         3   \n",
      "\n",
      "   Number of Personal Computer  Number of Stove with Oven/Gas Range  \\\n",
      "0                            1                                    0   \n",
      "1                            1                                    0   \n",
      "2                            0                                    0   \n",
      "3                            0                                    0   \n",
      "4                            0                                    0   \n",
      "\n",
      "   Number of Motorized Banca  Number of Motorcycle/Tricycle  \n",
      "0                          0                              1  \n",
      "1                          0                              2  \n",
      "2                          0                              0  \n",
      "3                          0                              0  \n",
      "4                          0                              1  \n",
      "\n",
      "[5 rows x 60 columns]\n"
     ]
    }
   ],
   "source": [
    "# Head\n",
    "print(house_hold_csv.head())"
   ]
  },
  {
   "cell_type": "code",
   "execution_count": 69,
   "metadata": {
    "id": "uin2jPA-Wp-_"
   },
   "outputs": [
    {
     "name": "stdout",
     "output_type": "stream",
     "text": [
      "       Total Household Income              Region  Total Food Expenditure  \\\n",
      "41539                  119773  XII - SOCCSKSARGEN                   44875   \n",
      "41540                  137320  XII - SOCCSKSARGEN                   31157   \n",
      "41541                  133171  XII - SOCCSKSARGEN                   45882   \n",
      "41542                  129500  XII - SOCCSKSARGEN                   81416   \n",
      "41543                  128598  XII - SOCCSKSARGEN                   78195   \n",
      "\n",
      "            Main Source of Income  Agricultural Household indicator  \\\n",
      "41539  Enterpreneurial Activities                                 1   \n",
      "41540  Enterpreneurial Activities                                 1   \n",
      "41541  Enterpreneurial Activities                                 2   \n",
      "41542  Enterpreneurial Activities                                 1   \n",
      "41543  Enterpreneurial Activities                                 1   \n",
      "\n",
      "       Bread and Cereals Expenditure  Total Rice Expenditure  \\\n",
      "41539                          23675                   21542   \n",
      "41540                           2691                    1273   \n",
      "41541                          28646                   27339   \n",
      "41542                          29996                   26655   \n",
      "41543                          43485                   41205   \n",
      "\n",
      "       Meat Expenditure  Total Fish and  marine products Expenditure  \\\n",
      "41539              1476                                         6120   \n",
      "41540              1886                                         4386   \n",
      "41541               480                                         4796   \n",
      "41542              2359                                        17730   \n",
      "41543              1985                                         7735   \n",
      "\n",
      "       Fruit Expenditure  ...  Number of Refrigerator/Freezer  \\\n",
      "41539               1632  ...                               0   \n",
      "41540               1840  ...                               0   \n",
      "41541               1232  ...                               0   \n",
      "41542               2923  ...                               0   \n",
      "41543               2062  ...                               0   \n",
      "\n",
      "       Number of Washing Machine  Number of Airconditioner  \\\n",
      "41539                          0                         0   \n",
      "41540                          0                         0   \n",
      "41541                          0                         0   \n",
      "41542                          0                         0   \n",
      "41543                          0                         0   \n",
      "\n",
      "       Number of Car, Jeep, Van  Number of Landline/wireless telephones  \\\n",
      "41539                         0                                       0   \n",
      "41540                         0                                       0   \n",
      "41541                         0                                       0   \n",
      "41542                         0                                       0   \n",
      "41543                         0                                       0   \n",
      "\n",
      "       Number of Cellular phone  Number of Personal Computer  \\\n",
      "41539                         1                            0   \n",
      "41540                         3                            0   \n",
      "41541                         1                            0   \n",
      "41542                         2                            0   \n",
      "41543                         1                            0   \n",
      "\n",
      "       Number of Stove with Oven/Gas Range  Number of Motorized Banca  \\\n",
      "41539                                    0                          0   \n",
      "41540                                    0                          0   \n",
      "41541                                    0                          0   \n",
      "41542                                    0                          0   \n",
      "41543                                    0                          0   \n",
      "\n",
      "       Number of Motorcycle/Tricycle  \n",
      "41539                              0  \n",
      "41540                              0  \n",
      "41541                              0  \n",
      "41542                              0  \n",
      "41543                              0  \n",
      "\n",
      "[5 rows x 60 columns]\n"
     ]
    }
   ],
   "source": [
    "# Tail\n",
    "print(house_hold_csv.tail())"
   ]
  },
  {
   "cell_type": "code",
   "execution_count": 138,
   "metadata": {
    "id": "jtz27rGLWp_C"
   },
   "outputs": [
    {
     "name": "stdout",
     "output_type": "stream",
     "text": [
      "(41544, 60)\n"
     ]
    }
   ],
   "source": [
    "# Shape\n",
    "print(house_hold_csv.shape)"
   ]
  },
  {
   "cell_type": "code",
   "execution_count": 140,
   "metadata": {
    "id": "N0UjVkZRWp_E"
   },
   "outputs": [
    {
     "name": "stdout",
     "output_type": "stream",
     "text": [
      "Total Household Income                            int64\n",
      "Region                                           object\n",
      "Total Food Expenditure                            int64\n",
      "Main Source of Income                            object\n",
      "Agricultural Household indicator                  int64\n",
      "Bread and Cereals Expenditure                     int64\n",
      "Total Rice Expenditure                            int64\n",
      "Meat Expenditure                                  int64\n",
      "Total Fish and  marine products Expenditure       int64\n",
      "Fruit Expenditure                                 int64\n",
      "Vegetables Expenditure                            int64\n",
      "Restaurant and hotels Expenditure                 int64\n",
      "Alcoholic Beverages Expenditure                   int64\n",
      "Tobacco Expenditure                               int64\n",
      "Clothing, Footwear and Other Wear Expenditure     int64\n",
      "Housing and water Expenditure                     int64\n",
      "Imputed House Rental Value                        int64\n",
      "Medical Care Expenditure                          int64\n",
      "Transportation Expenditure                        int64\n",
      "Communication Expenditure                         int64\n",
      "Education Expenditure                             int64\n",
      "Miscellaneous Goods and Services Expenditure      int64\n",
      "Special Occasions Expenditure                     int64\n",
      "Crop Farming and Gardening expenses               int64\n",
      "Total Income from Entrepreneurial Acitivites      int64\n",
      "Household Head Sex                               object\n",
      "Household Head Age                                int64\n",
      "Household Head Marital Status                    object\n",
      "Household Head Highest Grade Completed           object\n",
      "Household Head Job or Business Indicator         object\n",
      "Household Head Occupation                        object\n",
      "Household Head Class of Worker                   object\n",
      "Type of Household                                object\n",
      "Total Number of Family members                    int64\n",
      "Members with age less than 5 year old             int64\n",
      "Members with age 5 - 17 years old                 int64\n",
      "Total number of family members employed           int64\n",
      "Type of Building/House                           object\n",
      "Type of Roof                                     object\n",
      "Type of Walls                                    object\n",
      "House Floor Area                                  int64\n",
      "House Age                                         int64\n",
      "Number of bedrooms                                int64\n",
      "Tenure Status                                    object\n",
      "Toilet Facilities                                object\n",
      "Electricity                                       int64\n",
      "Main Source of Water Supply                      object\n",
      "Number of Television                              int64\n",
      "Number of CD/VCD/DVD                              int64\n",
      "Number of Component/Stereo set                    int64\n",
      "Number of Refrigerator/Freezer                    int64\n",
      "Number of Washing Machine                         int64\n",
      "Number of Airconditioner                          int64\n",
      "Number of Car, Jeep, Van                          int64\n",
      "Number of Landline/wireless telephones            int64\n",
      "Number of Cellular phone                          int64\n",
      "Number of Personal Computer                       int64\n",
      "Number of Stove with Oven/Gas Range               int64\n",
      "Number of Motorized Banca                         int64\n",
      "Number of Motorcycle/Tricycle                     int64\n",
      "dtype: object\n"
     ]
    }
   ],
   "source": [
    "# Data Types\n",
    "print(house_hold_csv.dtypes)"
   ]
  },
  {
   "cell_type": "markdown",
   "metadata": {
    "id": "8C9HLIwaWp_G"
   },
   "source": [
    "#### Surveying the populations\n",
    "\n",
    "##### 1. Create a histogram of `Total Household Income`."
   ]
  },
  {
   "cell_type": "code",
   "execution_count": 210,
   "metadata": {
    "id": "ge1hHvg7Wp_H"
   },
   "outputs": [
    {
     "data": {
      "image/png": "[encoded data removed]",
      "text/plain": [
       "<Figure size 640x480 with 1 Axes>"
      ]
     },
     "metadata": {},
     "output_type": "display_data"
    }
   ],
   "source": [
    "# ANSWER\n",
    "plt.hist(house_hold_csv['Total Household Income'])\n",
    "plt.title(\"Total Household Income\")\n",
    "plt.xlabel(\"Income\")\n",
    "plt.ylabel(\"Frequency\")\n",
    "plt.show()"
   ]
  },
  {
   "cell_type": "code",
   "execution_count": 170,
   "metadata": {},
   "outputs": [
    {
     "data": {
      "text/plain": [
       "count    4.154400e+04\n",
       "mean     2.475556e+05\n",
       "std      2.868805e+05\n",
       "min      1.128500e+04\n",
       "25%      1.048950e+05\n",
       "50%      1.640795e+05\n",
       "75%      2.911385e+05\n",
       "max      1.181599e+07\n",
       "Name: Total Household Income, dtype: float64"
      ]
     },
     "execution_count": 170,
     "metadata": {},
     "output_type": "execute_result"
    }
   ],
   "source": [
    "house_hold_csv['Total Household Income'].describe() "
   ]
  },
  {
   "cell_type": "markdown",
   "metadata": {
    "id": "Kvj7MZo7Wp_J"
   },
   "source": [
    "##### 2. How would you describe the shape of this population?"
   ]
  },
  {
   "cell_type": "code",
   "execution_count": 235,
   "metadata": {},
   "outputs": [],
   "source": [
    "# Skewed right."
   ]
  },
  {
   "cell_type": "markdown",
   "metadata": {
    "id": "pgFbYuCYWp_J"
   },
   "source": [
    "**ANSWER:**\n"
   ]
  },
  {
   "cell_type": "markdown",
   "metadata": {
    "id": "I4WSzg_QWp_K"
   },
   "source": [
    "##### 3. What is the mean income of this population?"
   ]
  },
  {
   "cell_type": "code",
   "execution_count": 159,
   "metadata": {
    "id": "AFRb6NTrWp_L"
   },
   "outputs": [
    {
     "name": "stdout",
     "output_type": "stream",
     "text": [
      "247555.58480165608\n"
     ]
    }
   ],
   "source": [
    "print(house_hold_csv['Total Household Income'].mean())"
   ]
  },
  {
   "cell_type": "markdown",
   "metadata": {
    "id": "7t2837pfWp_N"
   },
   "source": [
    "##### 4. How would you estimate the mean of this population if you only had a random sample of it?"
   ]
  },
  {
   "cell_type": "code",
   "execution_count": 276,
   "metadata": {
    "id": "ggfGT1mAWp_O"
   },
   "outputs": [],
   "source": [
    "#sample.mean()"
   ]
  },
  {
   "cell_type": "markdown",
   "metadata": {
    "id": "H4-qmwfKWp_Q"
   },
   "source": [
    "**ANSWER:**\n"
   ]
  },
  {
   "cell_type": "markdown",
   "metadata": {
    "id": "X1idVptIWp_R"
   },
   "source": [
    "#### Simulated sampling (sample means)"
   ]
  },
  {
   "cell_type": "markdown",
   "metadata": {
    "id": "SKkYeNcCWp_R"
   },
   "source": [
    "Now, we'd like to get an idea of what happens when we take multiple random samples of size 5.\n",
    "\n",
    "Take 10 sample (size=5) from the entire population. Calculate means for each sample. Now make a histogram of all the sample means.\n",
    "\n",
    "- Describe the shape of the histogram.\n",
    "- What is the center of the distribution of sample means?"
   ]
  },
  {
   "cell_type": "markdown",
   "metadata": {
    "id": "OyPK3qRcWp_S"
   },
   "source": [
    "##### 5. Simulation with `sample_size=5`"
   ]
  },
  {
   "cell_type": "markdown",
   "metadata": {
    "id": "vOk-K5ERWp_S"
   },
   "source": [
    "Take 10 samples, but with a sample size of 5."
   ]
  },
  {
   "cell_type": "code",
   "execution_count": 247,
   "metadata": {},
   "outputs": [
    {
     "name": "stdout",
     "output_type": "stream",
     "text": [
      "Sample 1: [273790 132056  93443  48174 155359]\n",
      "Sample 2: [118175 112241 325205 304600 217124]\n",
      "Sample 3: [ 84635  86016 789904 133316 122319]\n",
      "Sample 4: [148778 400008 395344 123036  86380]\n",
      "Sample 5: [270185 111625 106105 151354  45702]\n",
      "Sample 6: [145326 133007 157415 207757 138543]\n",
      "Sample 7: [534475  60027 718952  65008  79739]\n",
      "Sample 8: [ 215410  396530 6452314  244774  167568]\n",
      "Sample 9: [159321  96359 318000 263300  93981]\n",
      "Sample 10: [565736 109055 417558 178395 265304]\n"
     ]
    }
   ],
   "source": [
    "samples5 = [np.random.choice(house_hold_csv['Total Household Income'], size=5) for _ in range(10)]\n",
    "\n",
    "for i, sample in enumerate(samples5, 1):\n",
    "    print(f\"Sample {i}: {sample}\")"
   ]
  },
  {
   "cell_type": "markdown",
   "metadata": {
    "id": "B_R3uh2vWp_b"
   },
   "source": [
    "###### 6.A Make a histogram of all the sample means"
   ]
  },
  {
   "cell_type": "code",
   "execution_count": 253,
   "metadata": {
    "id": "fxfFQoymWp_c"
   },
   "outputs": [
    {
     "name": "stdout",
     "output_type": "stream",
     "text": [
      "Sample 1 Mean: 140564.4\n",
      "Sample 2 Mean: 215469.0\n",
      "Sample 3 Mean: 243238.0\n",
      "Sample 4 Mean: 230709.2\n",
      "Sample 5 Mean: 136994.2\n",
      "Sample 6 Mean: 156409.6\n",
      "Sample 7 Mean: 291640.2\n",
      "Sample 8 Mean: 1495319.2\n",
      "Sample 9 Mean: 186192.2\n",
      "Sample 10 Mean: 307209.6\n"
     ]
    }
   ],
   "source": [
    "sample_means5 = np.array(samples5).mean(axis=1)\n",
    "\n",
    "# Print each sample mean\n",
    "for i, mean in enumerate(sample_means5, 1):\n",
    "    print(f\"Sample {i} Mean: {mean}\")\n"
   ]
  },
  {
   "cell_type": "code",
   "execution_count": 255,
   "metadata": {},
   "outputs": [
    {
     "data": {
      "image/png": "[encoded data removed]",
      "text/plain": [
       "<Figure size 640x480 with 1 Axes>"
      ]
     },
     "metadata": {},
     "output_type": "display_data"
    }
   ],
   "source": [
    "plt.hist(sample_means5)\n",
    "plt.title(\"Average of Sample Household Incomes\")\n",
    "plt.xlabel(\"Average Income\")\n",
    "plt.ylabel(\"Frequency\")\n",
    "plt.show()"
   ]
  },
  {
   "cell_type": "markdown",
   "metadata": {
    "id": "Wgz--ujKWp_e"
   },
   "source": [
    "###### 6.B Describe the shape of the histogram."
   ]
  },
  {
   "cell_type": "code",
   "execution_count": 207,
   "metadata": {},
   "outputs": [],
   "source": [
    "#Skewed right."
   ]
  },
  {
   "cell_type": "markdown",
   "metadata": {
    "id": "1bvqt98-Wp_f"
   },
   "source": [
    "**ANSWER:**\n"
   ]
  },
  {
   "cell_type": "markdown",
   "metadata": {
    "id": "rvx1E9OdWp_g"
   },
   "source": [
    "##### 7. Simulation with `sample_size=15`"
   ]
  },
  {
   "cell_type": "markdown",
   "metadata": {
    "id": "8iCYMHr7Wp_g"
   },
   "source": [
    "let's try taking another 1000 samples, but with a sample size of 15"
   ]
  },
  {
   "cell_type": "code",
   "execution_count": 257,
   "metadata": {
    "id": "OLe04oY5Wp_h"
   },
   "outputs": [
    {
     "data": {
      "image/png": "[encoded data removed]",
      "text/plain": [
       "<Figure size 640x480 with 1 Axes>"
      ]
     },
     "metadata": {},
     "output_type": "display_data"
    }
   ],
   "source": [
    "samples15 = [np.random.choice(house_hold_csv['Total Household Income'], size=15) for _ in range(1000)]\n",
    "sample_means15 = np.array(samples15).mean(axis=1)\n",
    "plt.hist(sample_means15)\n",
    "plt.title(\"Average of Sample Household Incomes\")\n",
    "plt.xlabel(\"Average Income\")\n",
    "plt.ylabel(\"Frequency\")\n",
    "plt.show()"
   ]
  },
  {
   "cell_type": "markdown",
   "metadata": {
    "id": "mEsn6pYpWp_k"
   },
   "source": [
    "##### 8.A Simulation with `sample_size=50`"
   ]
  },
  {
   "cell_type": "markdown",
   "metadata": {
    "id": "Hf1nTCxzWp_l"
   },
   "source": [
    "Let's try taking another 1000 samples, but with a sample size of 50"
   ]
  },
  {
   "cell_type": "code",
   "execution_count": 259,
   "metadata": {
    "id": "TVmVzgJwWp_l"
   },
   "outputs": [
    {
     "data": {
      "image/png": "[encoded data removed]",
      "text/plain": [
       "<Figure size 640x480 with 1 Axes>"
      ]
     },
     "metadata": {},
     "output_type": "display_data"
    }
   ],
   "source": [
    "samples50 = [np.random.choice(house_hold_csv['Total Household Income'], size=50) for _ in range(1000)]\n",
    "sample_means50 = np.array(samples50).mean(axis=1)\n",
    "plt.hist(sample_means50)\n",
    "plt.title(\"Average of Sample Household Incomes\")\n",
    "plt.xlabel(\"Average Income\")\n",
    "plt.ylabel(\"Frequency\")\n",
    "plt.show()"
   ]
  },
  {
   "cell_type": "markdown",
   "metadata": {
    "id": "61vjImD6Wp_p"
   },
   "source": [
    "###### 8.B Describe the shape of the histogram of sample means (using sample size of 50)"
   ]
  },
  {
   "cell_type": "code",
   "execution_count": null,
   "metadata": {},
   "outputs": [],
   "source": [
    "#More normal distribution."
   ]
  },
  {
   "cell_type": "markdown",
   "metadata": {
    "id": "RQmiqmA3Wp_r"
   },
   "source": [
    "**ANSWER:**\n"
   ]
  },
  {
   "cell_type": "markdown",
   "metadata": {
    "id": "S4CYvqnWWp_s"
   },
   "source": [
    "###### 8.C What is mean of the distribution of sample means?"
   ]
  },
  {
   "cell_type": "code",
   "execution_count": 271,
   "metadata": {
    "id": "u9o6BrUOWp_t"
   },
   "outputs": [
    {
     "name": "stdout",
     "output_type": "stream",
     "text": [
      "Mean with sample size 5: 340374.56\n",
      "Mean with sample size 15: 248317.60586666668\n",
      "Mean with sample size 50: 248237.07972000004\n"
     ]
    }
   ],
   "source": [
    "print(\"Mean with sample size 5: \" + str(sample_means5.mean()))\n",
    "print(\"Mean with sample size 15: \" + str(sample_means15.mean()))\n",
    "print(\"Mean with sample size 50: \" + str(sample_means50.mean()))"
   ]
  },
  {
   "cell_type": "markdown",
   "metadata": {
    "id": "vWIOMBaJWp_w"
   },
   "source": [
    "**ANSWER:**\n",
    "\n",
    "> If repeated random samples of a given size n are taken from a population of values for a quantitative variable, where the population mean is μ (mu) and the population standard deviation is σ (sigma) then the mean of all sample means (x-bars) is population mean μ (mu)."
   ]
  },
  {
   "cell_type": "markdown",
   "metadata": {
    "id": "qsjv6QjVWp_w"
   },
   "source": [
    "###### 8.D As the sample size grew, did your results confirm the CLT?"
   ]
  },
  {
   "cell_type": "markdown",
   "metadata": {
    "id": "SgwjPt_sWp_9"
   },
   "source": [
    "**ANSWER:**\n",
    "Yes. The central limit theorem says that the sampling distribution of the mean will always be normally distributed, as long as the sample size is large enough. As we increased the sample size, the histograms were visually becoming less skewed and more normally distributed, and the mean tended towards the population mean.\n"
   ]
  },
  {
   "cell_type": "markdown",
   "metadata": {
    "id": "Pc-3XvwPnfkk"
   },
   "source": [
    "\n",
    "\n",
    "---\n",
    "\n",
    "\n",
    "\n",
    "---\n",
    "\n",
    "\n",
    "\n",
    "> > > > > > > > > © 2025 Institute of Data\n",
    "\n",
    "\n",
    "---\n",
    "\n",
    "\n",
    "\n",
    "---\n",
    "\n",
    "\n",
    "\n"
   ]
  }
 ],
 "metadata": {
  "colab": {
   "provenance": []
  },
  "kernelspec": {
   "display_name": "Python [conda env:base] *",
   "language": "python",
   "name": "conda-base-py"
  },
  "language_info": {
   "codemirror_mode": {
    "name": "ipython",
    "version": 3
   },
   "file_extension": ".py",
   "mimetype": "text/x-python",
   "name": "python",
   "nbconvert_exporter": "python",
   "pygments_lexer": "ipython3",
   "version": "3.12.7"
  }
 },
 "nbformat": 4,
 "nbformat_minor": 4
}
